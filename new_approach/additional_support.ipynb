{
 "cells": [
  {
   "cell_type": "code",
   "execution_count": null,
   "metadata": {},
   "outputs": [],
   "source": [
    "from instance_pyfile import *\n",
    "import random"
   ]
  },
  {
   "cell_type": "code",
   "execution_count": null,
   "metadata": {},
   "outputs": [],
   "source": [
    "def parent2str(par1: Individual, par2: Individual) :\n",
    "    outString = '{'\n",
    "\n",
    "    outString += ('parent1 = ' + str(par1.trace) + ', parent2 = ' + str(par2.trace) )\n",
    "\n",
    "    return outString"
   ]
  },
  {
   "cell_type": "code",
   "execution_count": null,
   "metadata": {},
   "outputs": [],
   "source": [
    "def cut2Offsprings(llmResponse: str) :\n",
    "    \n",
    "    child1 = llmResponse[(llmResponse.find(\"<Off1>\")+6) : (llmResponse.find(\"</Off1>\"))]\n",
    "\n",
    "    child2 = llmResponse[(llmResponse.find(\"<Off2>\")+6) : (llmResponse.find(\"</Off2>\"))]\n",
    "\n",
    "    return child1, child2"
   ]
  },
  {
   "cell_type": "code",
   "execution_count": null,
   "metadata": {},
   "outputs": [],
   "source": [
    "def cutMutated(llmResponse: str) :\n",
    "    \n",
    "    resStr = llmResponse[(llmResponse.find(\"<mut>\")+5) : (llmResponse.find(\"</mut>\"))]\n",
    "\n",
    "    return resStr"
   ]
  },
  {
   "cell_type": "code",
   "execution_count": 1,
   "metadata": {},
   "outputs": [],
   "source": [
    "def tournament_selection(population: list):\n",
    "    \n",
    "    tournament = random.sample(population, 5)\n",
    "\n",
    "    first_parent = min(tournament, key = compIndiv)\n",
    "\n",
    "    second_parent = first_parent\n",
    "\n",
    "    while (second_parent == first_parent) :\n",
    "\n",
    "        tournament = random.sample(population, 5)\n",
    "\n",
    "        second_parent = min(tournament, key = compIndiv)\n",
    "    \n",
    "    return (first_parent, second_parent)"
   ]
  }
 ],
 "metadata": {
  "kernelspec": {
   "display_name": "Python 3",
   "language": "python",
   "name": "python3"
  },
  "language_info": {
   "codemirror_mode": {
    "name": "ipython",
    "version": 3
   },
   "file_extension": ".py",
   "mimetype": "text/x-python",
   "name": "python",
   "nbconvert_exporter": "python",
   "pygments_lexer": "ipython3",
   "version": "3.12.2"
  }
 },
 "nbformat": 4,
 "nbformat_minor": 2
}
