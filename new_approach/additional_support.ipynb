{
 "cells": [
  {
   "cell_type": "code",
   "execution_count": 8,
   "metadata": {},
   "outputs": [],
   "source": [
    "from instance_pyfile import *\n",
    "import random\n",
    "from support_pyfile import randomFirstN as ranFN"
   ]
  },
  {
   "cell_type": "code",
   "execution_count": 9,
   "metadata": {},
   "outputs": [],
   "source": [
    "def parent2str(par1: Individual, par2: Individual) :\n",
    "    outString = '{'\n",
    "\n",
    "    outString += ('parent1 = ' + str(par1.trace) + ', parent2 = ' + str(par2.trace) )\n",
    "\n",
    "    return outString"
   ]
  },
  {
   "cell_type": "code",
   "execution_count": 10,
   "metadata": {},
   "outputs": [],
   "source": [
    "def cut2Offsprings(llmResponse: str) :\n",
    "    \n",
    "    child1 = llmResponse[(llmResponse.find(\"<Off1>\")+6) : (llmResponse.find(\"</Off1>\"))]\n",
    "\n",
    "    child2 = llmResponse[(llmResponse.find(\"<Off2>\")+6) : (llmResponse.find(\"</Off2>\"))]\n",
    "\n",
    "    return child1, child2"
   ]
  },
  {
   "cell_type": "code",
   "execution_count": 11,
   "metadata": {},
   "outputs": [],
   "source": [
    "def cutMutated(llmResponse: str) :\n",
    "    \n",
    "    resStr = llmResponse[(llmResponse.find(\"<mut>\")+5) : (llmResponse.find(\"</mut>\"))]\n",
    "\n",
    "    return resStr"
   ]
  },
  {
   "cell_type": "code",
   "execution_count": 12,
   "metadata": {},
   "outputs": [],
   "source": [
    "def tournament_selection(population: list):\n",
    "    \n",
    "    tournament = random.sample(population, 5)\n",
    "\n",
    "    first_parent = min(tournament, key = compIndiv)\n",
    "\n",
    "    second_parent = first_parent\n",
    "\n",
    "    while (second_parent == first_parent) :\n",
    "\n",
    "        tournament = random.sample(population, 5)\n",
    "\n",
    "        second_parent = min(tournament, key = compIndiv)\n",
    "    \n",
    "    return (first_parent, second_parent)"
   ]
  },
  {
   "cell_type": "markdown",
   "metadata": {},
   "source": [
    "1. Entropy-based diversity measuring\n"
   ]
  },
  {
   "cell_type": "code",
   "execution_count": 13,
   "metadata": {},
   "outputs": [],
   "source": [
    "def uniformTrace(trace: list, n: int) :\n",
    "    one_idx = -1\n",
    "    two_idx = -1\n",
    "    three_idx = -1\n",
    "\n",
    "    for i in range(n) :\n",
    "        if trace[i] == 1 :\n",
    "            one_idx = i\n",
    "        elif trace[i] == 2 :\n",
    "            two_idx = i\n",
    "        elif trace[i] == 3 :\n",
    "            three_idx = i\n",
    "        \n",
    "        if one_idx >= 0 and two_idx >= 0 and three_idx >= 0 :\n",
    "            break\n",
    "    \n",
    "    out_tr = []\n",
    "\n",
    "    if one_idx < two_idx and two_idx < three_idx :\n",
    "        if one_idx == 0:\n",
    "            out_tr = trace\n",
    "        else :\n",
    "            out_tr = trace[one_idx:] + trace[:one_idx]\n",
    "    \n",
    "    elif one_idx < three_idx and three_idx < two_idx :\n",
    "        if one_idx == 0:\n",
    "            out_tr = [trace[one_idx]] + trace[one_idx+1:][::-1]\n",
    "        else :\n",
    "            out_tr = trace[:(one_idx+1)][::-1] + trace[one_idx+1:][::-1]\n",
    "    \n",
    "    elif two_idx < one_idx and one_idx < three_idx :\n",
    "        out_tr = trace[:(one_idx+1)][::-1] + trace[one_idx+1:][::-1]\n",
    "\n",
    "    elif two_idx < three_idx and three_idx < one_idx :\n",
    "        if one_idx == n-1 :\n",
    "            out_tr = [trace[one_idx]] + trace[:one_idx]\n",
    "        else :\n",
    "            out_tr = trace[one_idx:] + trace[:one_idx]\n",
    "    \n",
    "    elif three_idx < one_idx and one_idx < two_idx :\n",
    "        out_tr = trace[one_idx:] + trace[:one_idx]\n",
    "    \n",
    "    elif three_idx < two_idx and two_idx < one_idx :\n",
    "        if one_idx == n-1 :\n",
    "            out_tr = [trace[one_idx]] + trace[:one_idx][::-1]\n",
    "        else :\n",
    "            out_tr = trace[:one_idx+1][::-1] + trace[one_idx+1:][::-1]\n",
    "\n",
    "    return out_tr\n",
    "\n",
    "def Pool2list(population: list):\n",
    "    popu = []\n",
    "    for indv in population:\n",
    "        out_tr = uniformTrace(indv.trace, n=n)\n",
    "               \n",
    "        popu.append(out_tr)\n",
    "\n",
    "    return popu\n",
    "\n",
    "def pr(i: int, c:int, pop_size: int, popu: list) :\n",
    "    na = 0\n",
    "    for j in range(pop_size):\n",
    "        if (popu[j][i] == c):\n",
    "            na += 1\n",
    "    \n",
    "    return (na / pop_size)\n",
    "\n",
    "def entropy_measuring(popu: list, pop_size: int, n: int, a: int, exp_thsh: int):                #popu: only traces of individuals\n",
    "    import math\n",
    "    \n",
    "    e = 2.171828\n",
    "    thres_hold = math.log(exp_thsh) / math.log(e)\n",
    "\n",
    "    count = 0\n",
    "    \n",
    "    for i in range(n) :\n",
    "        H = 0\n",
    "        for c in range(1, n+1):\n",
    "            prob = pr(i, c, pop_size, popu)\n",
    "        \n",
    "            if prob != 0.0:\n",
    "                H += prob * (math.log(prob) / math.log(e))\n",
    "\n",
    "        H = -H\n",
    "\n",
    "        if (H <= thres_hold):\n",
    "            count += 1\n",
    "        \n",
    "    \n",
    "    if count >= n/a:\n",
    "        return 0\n",
    "    else:\n",
    "        return 1"
   ]
  },
  {
   "cell_type": "markdown",
   "metadata": {},
   "source": [
    "2. Re-build population"
   ]
  },
  {
   "cell_type": "code",
   "execution_count": 14,
   "metadata": {},
   "outputs": [],
   "source": [
    "def rebuild(population: list, pop_size: int, n: int) :          #population = Pool (list of individuals)\n",
    "    a_half = int(pop_size/2)\n",
    "    newPool = ranFN(n, N=a_half)\n",
    "    \n",
    "    for indx in range(a_half, pop_size):\n",
    "        newPool.append(population[indx])\n",
    "    \n",
    "    return newPool\n",
    "    "
   ]
  }
 ],
 "metadata": {
  "kernelspec": {
   "display_name": "Python 3",
   "language": "python",
   "name": "python3"
  },
  "language_info": {
   "codemirror_mode": {
    "name": "ipython",
    "version": 3
   },
   "file_extension": ".py",
   "mimetype": "text/x-python",
   "name": "python",
   "nbconvert_exporter": "python",
   "pygments_lexer": "ipython3",
   "version": "3.12.2"
  }
 },
 "nbformat": 4,
 "nbformat_minor": 2
}
