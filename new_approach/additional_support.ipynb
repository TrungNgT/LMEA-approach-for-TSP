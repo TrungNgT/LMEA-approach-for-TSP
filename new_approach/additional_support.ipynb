{
 "cells": [
  {
   "cell_type": "code",
   "execution_count": null,
   "metadata": {},
   "outputs": [],
   "source": [
    "from instance_pyfile import *\n",
    "import random"
   ]
  },
  {
   "cell_type": "code",
   "execution_count": null,
   "metadata": {},
   "outputs": [],
   "source": [
    "def parent2str(par1: Individual, par2: Individual) :\n",
    "    outString = '{'\n",
    "\n",
    "    outString += ('parent1 = ' + str(par1.trace) + ', parent2 = ' + str(par2.trace) )\n",
    "\n",
    "    return outString"
   ]
  },
  {
   "cell_type": "code",
   "execution_count": null,
   "metadata": {},
   "outputs": [],
   "source": [
    "def cut2Offsprings(llmResponse: str) :\n",
    "    \n",
    "    child1 = llmResponse[(llmResponse.find(\"<Off1>\")+6) : (llmResponse.find(\"</Off1>\"))]\n",
    "\n",
    "    child2 = llmResponse[(llmResponse.find(\"<Off2>\")+6) : (llmResponse.find(\"</Off2>\"))]\n",
    "\n",
    "    return child1, child2"
   ]
  },
  {
   "cell_type": "code",
   "execution_count": null,
   "metadata": {},
   "outputs": [],
   "source": [
    "def cutMutated(llmResponse: str) :\n",
    "    \n",
    "    resStr = llmResponse[(llmResponse.find(\"<mut>\")+5) : (llmResponse.find(\"</mut>\"))]\n",
    "\n",
    "    return resStr"
   ]
  },
  {
   "cell_type": "code",
   "execution_count": null,
   "metadata": {},
   "outputs": [],
   "source": [
    "def OX(parent1, parent2):\n",
    "    prompt = '{parent1 = ' + f\"{parent1}, parent2 = {parent2}\" + '} '\n",
    "\n",
    "    size=len(parent1)\n",
    "    # Step 1: Select random crossover range\n",
    "    start, end = sorted(random.sample(range(1, size-2), 2))   # Avoid the first and last gene\n",
    "\n",
    "    # Step 2: Create proto-child by inheriting the selected range from its parent\n",
    "    child1 = [None]*len(parent1)\n",
    "    child1[start:end] = parent1[start:end]\n",
    "\n",
    "    child2 = [None]*len(parent2)\n",
    "    child2[start:end] = parent2[start:end]\n",
    "    \n",
    "    loc1 = child1.copy()\n",
    "    loc2 = child2.copy()\n",
    "\n",
    "    # Step 3: Fill in remaining positions in child1 with other cities in parent2\n",
    "    for i in range(len(parent2)):\n",
    "        if parent2[i] not in child1:\n",
    "            child1[child1.index(None)] = parent2[i]\n",
    "\n",
    "    #Step 4: Fill in remaining positions in child2 with other cities in parent1\n",
    "    for i in range(len(parent1)):\n",
    "        if parent1[i] not in child2:\n",
    "            child2[child2.index(None)] = parent1[i]\n",
    "\n",
    "    prompt += ('{child1: ' + f\"{child1}, child2: {child2}\" + '} ' + 'Explanation: {Step 1: Select random crossover range in both 2 parents: ' + f\"(start={start}, end={end}); \")\n",
    "    prompt += ('Step 2: Create proto-child by inheriting the selected range from its parent: ' + f\"(child1={loc1}, child2={loc2}); \")\n",
    "    prompt += ('Step 3: Fill in remaining positions in child1 with other cities in parent2: ' + f\"child1={child1}; \")\n",
    "    prompt += ('Step 4: Fill in remaining positions in child2 with other cities in parent1: ' + f\"child2={child2}\" + '}\\n')\n",
    "    \n",
    "    print(prompt)"
   ]
  },
  {
   "cell_type": "code",
   "execution_count": null,
   "metadata": {},
   "outputs": [],
   "source": [
    "parent1 = list(random.sample(range(1, n + 1), n))\n",
    "parent2 = list(random.sample(range(1, n + 1), n))\n",
    "\n",
    "OX(parent1, parent2)"
   ]
  },
  {
   "cell_type": "code",
   "execution_count": null,
   "metadata": {},
   "outputs": [],
   "source": [
    "def PMX(parent1, parent2):\n",
    "    prompt = '{parent1 = ' + f\"{parent1}, parent2 = {parent2}\" + '} '\n",
    "\n",
    "    size = len(parent1)\n",
    "    # Step 1: Select crossover range at random\n",
    "    start, end = sorted(random.sample(range(1, size - 2), 2))  # Avoid the first and last gene (the hive) \n",
    "\n",
    "    # Step 2: Create offspring by exchanging the selected range\n",
    "    child1 = parent1[:start] + parent2[start:end] + parent1[end:]\n",
    "    child2 = parent2[:start] + parent1[start:end] + parent2[end:]\n",
    "    \n",
    "    loc1 = child1.copy()\n",
    "    loc2 = child2.copy()\n",
    "\n",
    "    # Step 3: Determine the mapping relationship to legalize offspring\n",
    "    mapping1 = {parent2[i]: parent1[i] for i in range(start, end)}\n",
    "    mapping2 = {parent1[i]: parent2[i] for i in range(start, end)}\n",
    "\n",
    "    # Step 4: Legalize children with the mapping relationship\n",
    "    for i in list(range(start)) + list(range(end, size)):\n",
    "        if child1[i] in mapping1: \n",
    "            while child1[i] in mapping1:\n",
    "                child1[i] = mapping1[child1[i]]\n",
    "        if child2[i] in mapping2:\n",
    "            while child2[i] in mapping2:\n",
    "                child2[i] = mapping2[child2[i]]\n",
    "\n",
    "    prompt += ('{child1: ' + f\"{child1}, child2: {child2}\" + '} ' + 'Explanation: {Step 1: Select random crossover range in both 2 parents: ' + f\"(start={start}, end={end}); \")\n",
    "    prompt += ('Step 2: Create offspring by exchanging the selected range: ' + f\"(child1={loc1}, child2={loc2}); \")\n",
    "    prompt += ('Step 3: Determine the mapping relationship to legalize offspring: ' + f\"(mapping1={mapping1}, mapping2={mapping2}); \")\n",
    "    prompt += ('Step 4: Legalize children with the mapping relationsip and receive 2 result offsprings as shown.}\\n')\n",
    "    \n",
    "    print(prompt)"
   ]
  },
  {
   "cell_type": "code",
   "execution_count": null,
   "metadata": {},
   "outputs": [],
   "source": [
    "parent1 = list(random.sample(range(1, n + 1), n))\n",
    "parent2 = list(random.sample(range(1, n + 1), n))\n",
    "\n",
    "PMX(parent1, parent2)"
   ]
  }
 ],
 "metadata": {
  "language_info": {
   "name": "python"
  }
 },
 "nbformat": 4,
 "nbformat_minor": 2
}
