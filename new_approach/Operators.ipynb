{
 "cells": [
  {
   "cell_type": "code",
   "execution_count": 1,
   "metadata": {},
   "outputs": [],
   "source": [
    "from instance_pyfile import *\n",
    "import random"
   ]
  },
  {
   "cell_type": "code",
   "execution_count": 2,
   "metadata": {},
   "outputs": [],
   "source": [
    "def OX(parent1, parent2):\n",
    "    prompt = '{parent1 = ' + f\"{parent1}, parent2 = {parent2}\" + '} '\n",
    "\n",
    "    size=len(parent1)\n",
    "    # Step 1: Select random crossover range\n",
    "    start, end = sorted(random.sample(range(1, size-2), 2))   # Avoid the first and last gene\n",
    "\n",
    "    # Step 2: Create proto-child by inheriting the selected range from its parent\n",
    "    child1 = [None]*len(parent1)\n",
    "    child1[start:end] = parent1[start:end]\n",
    "\n",
    "    child2 = [None]*len(parent2)\n",
    "    child2[start:end] = parent2[start:end]\n",
    "    \n",
    "    loc1 = child1.copy()\n",
    "    loc2 = child2.copy()\n",
    "\n",
    "    # Step 3: Fill in remaining positions in child1 with other cities in parent2\n",
    "    for i in range(len(parent2)):\n",
    "        if parent2[i] not in child1:\n",
    "            child1[child1.index(None)] = parent2[i]\n",
    "\n",
    "    #Step 4: Fill in remaining positions in child2 with other cities in parent1\n",
    "    for i in range(len(parent1)):\n",
    "        if parent1[i] not in child2:\n",
    "            child2[child2.index(None)] = parent1[i]\n",
    "\n",
    "    prompt += ('{child1: ' + f\"{child1}, child2: {child2}\" + '} ' + 'Explanation: {Step 1: Select random crossover range in both 2 parents: ' + f\"(start={start}, end={end}); \")\n",
    "    prompt += ('Step 2: Create proto-child by inheriting the selected range from its parent: ' + f\"(child1={loc1}, child2={loc2}); \")\n",
    "    prompt += ('Step 3: Fill in remaining positions in child1 with other cities in parent2: ' + f\"child1={child1}; \")\n",
    "    prompt += ('Step 4: Fill in remaining positions in child2 with other cities in parent1: ' + f\"child2={child2}\" + '}\\n')\n",
    "    \n",
    "    print(prompt)"
   ]
  },
  {
   "cell_type": "code",
   "execution_count": 3,
   "metadata": {},
   "outputs": [
    {
     "name": "stdout",
     "output_type": "stream",
     "text": [
      "{parent1 = [11, 6, 10, 14, 8, 13, 12, 4, 2, 9, 5, 7, 3, 1], parent2 = [8, 10, 7, 11, 14, 3, 9, 12, 1, 6, 5, 4, 2, 13]} {child1: [10, 7, 11, 14, 8, 13, 12, 4, 2, 3, 9, 1, 6, 5], child2: [11, 6, 10, 8, 14, 3, 9, 12, 1, 13, 4, 2, 5, 7]} Explanation: {Step 1: Select random crossover range in both 2 parents: (start=4, end=9); Step 2: Create proto-child by inheriting the selected range from its parent: (child1=[None, None, None, None, 8, 13, 12, 4, 2, None, None, None, None, None], child2=[None, None, None, None, 14, 3, 9, 12, 1, None, None, None, None, None]); Step 3: Fill in remaining positions in child1 with other cities in parent2: child1=[10, 7, 11, 14, 8, 13, 12, 4, 2, 3, 9, 1, 6, 5]; Step 4: Fill in remaining positions in child2 with other cities in parent1: child2=[11, 6, 10, 8, 14, 3, 9, 12, 1, 13, 4, 2, 5, 7]}\n",
      "\n"
     ]
    }
   ],
   "source": [
    "parent1 = list(random.sample(range(1, n + 1), n))\n",
    "parent2 = list(random.sample(range(1, n + 1), n))\n",
    "\n",
    "OX(parent1, parent2)"
   ]
  },
  {
   "cell_type": "code",
   "execution_count": 4,
   "metadata": {},
   "outputs": [],
   "source": [
    "def PMX(parent1, parent2):\n",
    "    prompt = '{parent1 = ' + f\"{parent1}, parent2 = {parent2}\" + '} '\n",
    "\n",
    "    size = len(parent1)\n",
    "    # Step 1: Select crossover range at random\n",
    "    start, end = sorted(random.sample(range(1, size - 2), 2))  # Avoid the first and last gene (the hive) \n",
    "\n",
    "    # Step 2: Create offspring by exchanging the selected range\n",
    "    child1 = parent1[:start] + parent2[start:end] + parent1[end:]\n",
    "    child2 = parent2[:start] + parent1[start:end] + parent2[end:]\n",
    "    \n",
    "    loc1 = child1.copy()\n",
    "    loc2 = child2.copy()\n",
    "\n",
    "    # Step 3: Determine the mapping relationship to legalize offspring\n",
    "    mapping1 = {parent2[i]: parent1[i] for i in range(start, end)}\n",
    "    mapping2 = {parent1[i]: parent2[i] for i in range(start, end)}\n",
    "\n",
    "    # Step 4: Legalize children with the mapping relationship\n",
    "    for i in list(range(start)) + list(range(end, size)):\n",
    "        if child1[i] in mapping1: \n",
    "            while child1[i] in mapping1:\n",
    "                child1[i] = mapping1[child1[i]]\n",
    "        if child2[i] in mapping2:\n",
    "            while child2[i] in mapping2:\n",
    "                child2[i] = mapping2[child2[i]]\n",
    "\n",
    "    prompt += ('{child1: ' + f\"{child1}, child2: {child2}\" + '} ' + 'Explanation: {Step 1: Select random crossover range in both 2 parents: ' + f\"(start={start}, end={end}); \")\n",
    "    prompt += ('Step 2: Create offspring by exchanging the selected range: ' + f\"(child1={loc1}, child2={loc2}); \")\n",
    "    prompt += ('Step 3: Determine the mapping relationship to legalize offspring: ' + f\"(mapping1={mapping1}, mapping2={mapping2}); \")\n",
    "    prompt += ('Step 4: Legalize children with the mapping relationsip and receive 2 result offsprings as shown.}\\n')\n",
    "    \n",
    "    print(prompt)"
   ]
  },
  {
   "cell_type": "code",
   "execution_count": 5,
   "metadata": {},
   "outputs": [
    {
     "name": "stdout",
     "output_type": "stream",
     "text": [
      "{parent1 = [5, 13, 8, 11, 2, 10, 6, 12, 14, 3, 7, 9, 4, 1], parent2 = [6, 5, 4, 13, 3, 2, 8, 10, 1, 11, 9, 12, 7, 14]} {child1: [5, 13, 6, 12, 3, 2, 8, 10, 1, 11, 7, 9, 4, 14], child2: [8, 5, 4, 13, 2, 10, 6, 12, 14, 3, 9, 11, 7, 1]} Explanation: {Step 1: Select random crossover range in both 2 parents: (start=4, end=10); Step 2: Create offspring by exchanging the selected range: (child1=[5, 13, 8, 11, 3, 2, 8, 10, 1, 11, 7, 9, 4, 1], child2=[6, 5, 4, 13, 2, 10, 6, 12, 14, 3, 9, 12, 7, 14]); Step 3: Determine the mapping relationship to legalize offspring: (mapping1={3: 2, 2: 10, 8: 6, 10: 12, 1: 14, 11: 3}, mapping2={2: 3, 10: 2, 6: 8, 12: 10, 14: 1, 3: 11}); Step 4: Legalize children with the mapping relationsip and receive 2 result offsprings as shown.}\n",
      "\n"
     ]
    }
   ],
   "source": [
    "parent1 = list(random.sample(range(1, n + 1), n))\n",
    "parent2 = list(random.sample(range(1, n + 1), n))\n",
    "\n",
    "PMX(parent1, parent2)"
   ]
  },
  {
   "cell_type": "code",
   "execution_count": 25,
   "metadata": {},
   "outputs": [],
   "source": [
    "def Towrs(origin_trace):\n",
    "    prompt = '{origin_trace = ' + f\"{origin_trace}\" + '}; '\n",
    "\n",
    "    size = len(origin_trace)\n",
    "\n",
    "    # Step 1: Randomly select 2 positions in the original trace\n",
    "    position1, position2 = random.sample(range(1, size - 2), 2)\n",
    "\n",
    "    # Step 2: Swap 2 genes in the positions selected aboved\n",
    "    origin_trace[position1], origin_trace[position2] = origin_trace[position2], origin_trace[position1]\n",
    "\n",
    "    prompt += ('{mutated_trace = ' + f\"{origin_trace}\" + '} Explanation: {Step 1: Randomly select 2 positions in the original trace: ' + f\"(position1 = {position1}, position2 = {position2}); \")\n",
    "    prompt += ('Step 2: Swap 2 genes in the positions selected aboved to get the mutated_trace = ' + f\"{origin_trace}\" + '}\\n')\n",
    "\n",
    "    print(prompt)"
   ]
  },
  {
   "cell_type": "code",
   "execution_count": 28,
   "metadata": {},
   "outputs": [
    {
     "name": "stdout",
     "output_type": "stream",
     "text": [
      "{origin_trace = [8, 7, 12, 14, 1, 3, 11, 6, 10, 4, 9, 13, 5, 2]}; {mutated_trace = [8, 7, 12, 14, 1, 3, 10, 6, 11, 4, 9, 13, 5, 2]} Explanation: {Step 1: Randomly select 2 positions in the original trace: (position1 = 6, position2 = 8); Step 2: Swap 2 genes in the positions selected aboved to get the mutated_trace = [8, 7, 12, 14, 1, 3, 10, 6, 11, 4, 9, 13, 5, 2]}\n",
      "\n"
     ]
    }
   ],
   "source": [
    "origin_trace = list(random.sample(range(1, n+1), n))\n",
    "\n",
    "Towrs(origin_trace)"
   ]
  },
  {
   "cell_type": "code",
   "execution_count": 29,
   "metadata": {},
   "outputs": [],
   "source": [
    "def CIM(origin_trace):\n",
    "\n",
    "    size = len(origin_trace)\n",
    "    # Step 1: Select a random point in the original trace\n",
    "\n",
    "    point = random.randint(0, size - 1)\n",
    "\n",
    "    # Step 2: Reverse all the sub-sequences from 0 to point and from point + 1 to the end\n",
    "\n",
    "    mutated_trace = origin_trace[:point][::-1] + origin_trace[point:][::-1]\n",
    "\n",
    "    prompt = '{origin_trace = ' + f\"{origin_trace}\" + '}; '\n",
    "    prompt += ('{mutated_trace = ' + f\"{mutated_trace}\" + '} Explanation: {Step 1: Select a random point in the original trace: ' + f\"(point = {point}); \")\n",
    "    prompt += ('Step 2: Reverse all the sub-sequences from index = 0 to ' + f\"{point} \" + ' and from ' +f\"index = {point+1}\" + ' to the end of origin_trace, and get ' + f\"mutated_trace = {mutated_trace}\" + '}\\n')\n",
    "\n",
    "    print(prompt)"
   ]
  },
  {
   "cell_type": "code",
   "execution_count": 32,
   "metadata": {},
   "outputs": [
    {
     "name": "stdout",
     "output_type": "stream",
     "text": [
      "{origin_trace = [4, 6, 14, 9, 8, 10, 7, 13, 2, 1, 5, 3, 12, 11]}; {mutated_trace = [12, 3, 5, 1, 2, 13, 7, 10, 8, 9, 14, 6, 4, 11]} Explanation: {Step 1: Select a random point in the original trace: (point = 13); Step 2: Reverse all the sub-sequences from index = 0 to 13  and from index = 14 to the end of origin_trace, and get mutated_trace = [12, 3, 5, 1, 2, 13, 7, 10, 8, 9, 14, 6, 4, 11]}\n",
      "\n"
     ]
    }
   ],
   "source": [
    "origin_trace = list(random.sample(range(1, n+1), n))\n",
    "\n",
    "CIM(origin_trace)"
   ]
  },
  {
   "cell_type": "code",
   "execution_count": 33,
   "metadata": {},
   "outputs": [],
   "source": [
    "def RSM(origin_trace) :\n",
    "\n",
    "    size = len(origin_trace)\n",
    "\n",
    "    # Step 1: Select reverse range at random:\n",
    "    start, end = sorted(random.sample(range(1, size - 1), 2))\n",
    "\n",
    "    # Step 2: Reverse the sub-sequence from start to end to have the mutated trace\n",
    "    mutated_trace = origin_trace[:start] + origin_trace[start:end][::-1] + origin_trace[end:]\n",
    "\n",
    "    prompt = '{origin_trace = ' + f\"{origin_trace}\" + '}; '\n",
    "    prompt += ('{mutated_trace = ' + f\"{mutated_trace}\" + '} Explanation: {Step 1: Select reverse range at random: ' + f\"(start = {start}, end = {end}); \") \n",
    "    prompt += (f\"Step 2: Reverse the sub-sequence from index = {start} to {end} to have the mutated trace: {mutated_trace}\" + '}\\n')\n",
    "\n",
    "    print(prompt)"
   ]
  },
  {
   "cell_type": "code",
   "execution_count": 36,
   "metadata": {},
   "outputs": [
    {
     "name": "stdout",
     "output_type": "stream",
     "text": [
      "{origin_trace = [14, 10, 5, 2, 13, 7, 12, 4, 8, 1, 3, 11, 6, 9]}; {mutated_trace = [14, 10, 5, 2, 13, 7, 1, 8, 4, 12, 3, 11, 6, 9]} Explanation: {Step 1: Select reverse range at random: (start = 6, end = 10); Step 2: Reverse the sub-sequence from index = 6 to 10 to have the mutated trace: [14, 10, 5, 2, 13, 7, 1, 8, 4, 12, 3, 11, 6, 9]}\n",
      "\n"
     ]
    }
   ],
   "source": [
    "origin_trace = list(random.sample(range(1, n+1), n))\n",
    "\n",
    "RSM(origin_trace)"
   ]
  }
 ],
 "metadata": {
  "kernelspec": {
   "display_name": "Python 3",
   "language": "python",
   "name": "python3"
  },
  "language_info": {
   "codemirror_mode": {
    "name": "ipython",
    "version": 3
   },
   "file_extension": ".py",
   "mimetype": "text/x-python",
   "name": "python",
   "nbconvert_exporter": "python",
   "pygments_lexer": "ipython3",
   "version": "3.12.2"
  }
 },
 "nbformat": 4,
 "nbformat_minor": 2
}
