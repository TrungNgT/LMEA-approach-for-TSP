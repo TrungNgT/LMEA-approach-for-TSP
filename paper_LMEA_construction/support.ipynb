{
 "cells": [
  {
   "cell_type": "code",
   "execution_count": 1,
   "metadata": {},
   "outputs": [
    {
     "name": "stdout",
     "output_type": "stream",
     "text": [
      "15\n"
     ]
    }
   ],
   "source": [
    "from instance_pyfile import *\n",
    "import random"
   ]
  },
  {
   "cell_type": "markdown",
   "metadata": {},
   "source": [
    "File này gồm các hàm hỗ trợ cho các thao tác soạn prompt, tách kết quả từ câu trả lời của LLM và quản lý quần thể\n"
   ]
  },
  {
   "cell_type": "code",
   "execution_count": 2,
   "metadata": {},
   "outputs": [],
   "source": [
    "# hàm này để đưa đồ thị danh sách điểm về liệt kê các điểm bằng string, ghép vào description của promt.\n",
    "def list2str() :\n",
    "    global graph\n",
    "    global n\n",
    "\n",
    "    out_str = ''\n",
    "    for index in range(1, n+1) :\n",
    "        out_str += (str(index) + ' (' + str(graph[index].x) + ', ' + str(graph[index].y) + ')')\n",
    "        if index != n :\n",
    "            out_str += ', '\n",
    "\n",
    "    return out_str\n"
   ]
  },
  {
   "cell_type": "code",
   "execution_count": 3,
   "metadata": {},
   "outputs": [],
   "source": [
    "# hàm này để dịch 1 cái trace được sinh ra từ LLM (ở dạng string) sang list int (thành 1 cái permutation các chỉ số của điểm trong đồ thị)\n",
    "def traceStr2list (trace: str) :\n",
    "    global n\n",
    "    trace = trace.translate({ord('{'):None, ord('}'):None, ord(';'):',', ord('['):None, ord(']'):None, ord('\\n'):None, ord('.'): ', ', ord('*'):None})\n",
    "    L = trace.split(\", \")\n",
    "    for index in range(len(L)):\n",
    "        L[index] = int(L[index])\n",
    "\n",
    "    return L[:n]"
   ]
  },
  {
   "cell_type": "code",
   "execution_count": 4,
   "metadata": {},
   "outputs": [],
   "source": [
    "# hàm này để tính chi phí đi với mỗi hoán vị được sinh ra. (Bài TSP)\n",
    "def objective_TSP(permutation: list) :                      # using the L above as the parameter.\n",
    "    evaluation = 0.0\n",
    "    x = y = 0\n",
    "    for ind in range(len(permutation) - 1) :\n",
    "        x = permutation[ind]\n",
    "        y = permutation[ind+1]\n",
    "        evaluation += ed_graph[x][y]\n",
    "        \n",
    "    evaluation += ed_graph[permutation[-1]][permutation[0]]\n",
    "\n",
    "    return evaluation"
   ]
  },
  {
   "cell_type": "code",
   "execution_count": 5,
   "metadata": {},
   "outputs": [],
   "source": [
    "# hàm này tính chi phí bài TRP\n",
    "def objective_TRP(permutation: list) :\n",
    "    global N\n",
    "    evaluation = 0.0\n",
    "    x = y = 0\n",
    "    for ind in range(len(permutation) - 1) :\n",
    "        x = permutation[ind]\n",
    "        y = permutation[ind+1]\n",
    "        evaluation += (N-1-ind) * ed_graph[x][y]\n",
    "    \n",
    "    return evaluation"
   ]
  },
  {
   "cell_type": "code",
   "execution_count": 6,
   "metadata": {},
   "outputs": [],
   "source": [
    "#cut response ở dạng string ra để lấy thông tin các con mới sinh ra\n",
    "def cutGenTrace(llmResponse: str):\n",
    "\n",
    "    number = min(llmResponse.count(\"</res>\"), llmResponse.count(\"<res>\"))\n",
    "    \n",
    "    tempString = []\n",
    "    listOffstr = []\n",
    "\n",
    "    for inte in range(number) :\n",
    "        tempString.append(str(inte))\n",
    "        listOffstr.append(str(inte))\n",
    "\n",
    "    tempString[0] = llmResponse[(llmResponse.find(\"<res>\") + 5):]\n",
    "\n",
    "    for index in range(number) :\n",
    "        tmp = tempString[index]\n",
    "        listOffstr[index] = tmp[:tmp.find(\"</res>\")]\n",
    "        \n",
    "        if index != number-1:\n",
    "            tempString[index+1] = tmp[(tmp.find(\"<res>\") + 5 ):]\n",
    "\n",
    "    return listOffstr               #list of strings"
   ]
  },
  {
   "cell_type": "code",
   "execution_count": 7,
   "metadata": {},
   "outputs": [],
   "source": [
    "#Khởi tạo quần thể ban đầu với N cá thể từ tập n điểm đã cho\n",
    "def randomFirstN(n: int, N: int):\n",
    "    listFirstN = []\n",
    "\n",
    "    while(len(listFirstN) < N) :\n",
    "        permutation =  list(random.sample(range(1, n + 1), n))\n",
    "        indiv = Individual(permutation, objective_TSP(permutation))\n",
    "        listFirstN.append(indiv)\n",
    "\n",
    "    listFirstN.sort(reverse=True, key=compIndiv)\n",
    "\n",
    "    return listFirstN"
   ]
  },
  {
   "cell_type": "code",
   "execution_count": 8,
   "metadata": {},
   "outputs": [],
   "source": [
    "# Cập nhật quần thể sau mỗi thế hệ\n",
    "# step 6 in the paper's paradism\n",
    "def updatePool(pool: list, newgenN: list, N: int):\n",
    "\n",
    "    pool.extend(newgenN)\n",
    "    \n",
    "    pool.sort(reverse=True, key=compIndiv)\n",
    "    L = len(pool)\n",
    "\n",
    "    out_pool = pool[(L-N):]\n",
    "    pool.clear()\n",
    "\n",
    "    return out_pool"
   ]
  },
  {
   "cell_type": "code",
   "execution_count": 9,
   "metadata": {},
   "outputs": [],
   "source": [
    "# hàm này để đưa các cá thể mẫu (trong pool đang là list các cá thể thuộc lớp Individual) thành xâu liệt kê để ghép vào phần thứ 2 của prompt\n",
    "def pool2examples(pool: list) :\n",
    "    outstr = ''\n",
    "    for index in range(4) :\n",
    "        outstr += ( str(pool[index].trace) + ' ' + 'length = ' + str(pool[index].length))\n",
    "        if index != N-1 :\n",
    "            outstr += '\\n'\n",
    "    return outstr"
   ]
  },
  {
   "cell_type": "code",
   "execution_count": 10,
   "metadata": {},
   "outputs": [],
   "source": [
    "# transform StringList offstring to IndividualList:\n",
    "\n",
    "def transform(P_temp: list):\n",
    "    P_sharp = []\n",
    "    for per in P_temp:\n",
    "        newOff = traceStr2list(per)\n",
    "        newIndiv = Individual(newOff, objective_TSP(newOff))\n",
    "        P_sharp.append(newIndiv)\n",
    "    \n",
    "    return P_sharp                  #list Individuals\n",
    "\n",
    "def checkPermu(permuStr: str, n: int) : \n",
    "    try :            \n",
    "        permu = traceStr2list(permuStr)\n",
    "\n",
    "        if len(permu) != n:\n",
    "            return False\n",
    "    \n",
    "        else: \n",
    "            for inte in range(1, n+1):\n",
    "                if (inte in permu) == False:\n",
    "                    return False\n",
    "    except :\n",
    "        return False\n",
    "    return True"
   ]
  },
  {
   "cell_type": "code",
   "execution_count": 11,
   "metadata": {},
   "outputs": [],
   "source": [
    "def check_stuck(best_cur: int, best_now: int, K: int) :\n",
    "\n",
    "    global check_var\n",
    "\n",
    "    if (best_now >= best_cur) :\n",
    "        check_var += 1\n",
    "        print(f\"got stuck {check_var} time\")\n",
    "    else :\n",
    "        check_var = 0\n",
    "        print(\"got update!\")\n",
    "    \n",
    "    if check_var >= K :\n",
    "        \n",
    "        return True\n",
    "    \n",
    "    return False"
   ]
  }
 ],
 "metadata": {
  "kernelspec": {
   "display_name": "Python 3",
   "language": "python",
   "name": "python3"
  },
  "language_info": {
   "codemirror_mode": {
    "name": "ipython",
    "version": 3
   },
   "file_extension": ".py",
   "mimetype": "text/x-python",
   "name": "python",
   "nbconvert_exporter": "python",
   "pygments_lexer": "ipython3",
   "version": "3.12.2"
  }
 },
 "nbformat": 4,
 "nbformat_minor": 2
}
