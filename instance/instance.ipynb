{
 "cells": [
  {
   "cell_type": "markdown",
   "metadata": {},
   "source": [
    "1. Các thông số để lựa chọn với bộ dữ liệu\n"
   ]
  },
  {
   "cell_type": "code",
   "execution_count": 11,
   "metadata": {},
   "outputs": [],
   "source": [
    "n = 14      #number of cities\n",
    "N = 16      #population \n",
    "G = 80     #number of generations\n",
    "\n",
    "check_var = 0       # variable for checking local stuck"
   ]
  },
  {
   "cell_type": "code",
   "execution_count": 12,
   "metadata": {},
   "outputs": [],
   "source": [
    "demension_index = 3\n",
    "start_index = 8\n",
    "graph = []"
   ]
  },
  {
   "cell_type": "markdown",
   "metadata": {},
   "source": [
    "2. Các định nghĩa lớp Điểm (Point) và Cá thể (Individual)"
   ]
  },
  {
   "cell_type": "code",
   "execution_count": 13,
   "metadata": {},
   "outputs": [],
   "source": [
    "class Point:\n",
    "    def __new__(cls, *args, **kwargs):\n",
    "        return super().__new__(cls)\n",
    "\n",
    "    def __init__(self, x, y):\n",
    "        self.x = x\n",
    "        self.y = y\n",
    "\n",
    "    def __repr__(self) -> str:\n",
    "        return f\"{type(self).__name__}(x={self.x}, y={self.y})\"\n",
    "    \n",
    "graph.append(Point(-1, -1))"
   ]
  },
  {
   "cell_type": "code",
   "execution_count": 14,
   "metadata": {},
   "outputs": [],
   "source": [
    "class Individual:\n",
    "    def __new__(cls, *args, **kwargs):\n",
    "        return super().__new__(cls)\n",
    "\n",
    "    def __init__(self, trace, length):\n",
    "        self.trace = trace\n",
    "        self.length = length\n",
    "\n",
    "    def __repr__(self) -> str:\n",
    "        return f\"{type(self).__name__}(trace={self.trace}, length={self.length})\"\n",
    "    \n",
    "def compIndiv(indiv: Individual) :\n",
    "    return indiv.length"
   ]
  },
  {
   "cell_type": "markdown",
   "metadata": {},
   "source": [
    "3. Bắt đầu đọc từ file dữ liệu .txt để đưa ra danh sách (graph) các điểm"
   ]
  },
  {
   "cell_type": "code",
   "execution_count": 16,
   "metadata": {},
   "outputs": [],
   "source": [
    "with open('C:/Users/MSI/Project2_practices/dataset/burma14.txt', 'r') as file:\n",
    "    lines = file.readlines()\n",
    "\n",
    "    demension_line = lines[demension_index]\n",
    "    n = int(demension_line[demension_line.find(' '):])\n",
    "\n",
    "    for idx_line in range(start_index, start_index+n):\n",
    "\n",
    "        cur_line = lines[idx_line]\n",
    "        component = cur_line.split(' ')\n",
    "        \n",
    "        tt = 0\n",
    "        x = 0\n",
    "        y = 0\n",
    "\n",
    "        for c in component:\n",
    "            try:\n",
    "                if tt == 0 and c != '':\n",
    "                    tt = 1\n",
    "                else:\n",
    "                    if tt == 1:\n",
    "                        x = float(c)\n",
    "                        tt = 2\n",
    "                    else:\n",
    "                        if tt == 2:\n",
    "                            y = float(c)\n",
    "                            break\n",
    "            except:\n",
    "                continue\n",
    "\n",
    "        point_idx = Point(x, y)\n",
    "        graph.append(point_idx)\n",
    "\n",
    "        del cur_line"
   ]
  },
  {
   "cell_type": "markdown",
   "metadata": {},
   "source": [
    "4. - Hàm tính khoảng cách theo tọa độ Euclid"
   ]
  },
  {
   "cell_type": "code",
   "execution_count": 17,
   "metadata": {},
   "outputs": [],
   "source": [
    "import math\n",
    "\n",
    "def distance(A: Point, B: Point):\n",
    "    return math.sqrt((A.x - B.x)**2 + (A.y - B.y)**2)"
   ]
  },
  {
   "cell_type": "markdown",
   "metadata": {},
   "source": [
    "4. - Hàm tính khoảng cách trong trường hợp điểm được cho dữ liệu kinh độ vĩ độ"
   ]
  },
  {
   "cell_type": "code",
   "execution_count": 18,
   "metadata": {},
   "outputs": [],
   "source": [
    "import math\n",
    "\n",
    "PI = 3.141592\n",
    "\n",
    "def GeoDistance(A: Point, B: Point):\n",
    "    # first, change degree&minute information to latitude and longtitude in radians\n",
    "    deg = round(A.x)\n",
    "    min = A.x - deg\n",
    "    latitude_A = PI * (deg + 5.0 * min / 3.0) / 180.0\n",
    "    deg = round(A.y)\n",
    "    min = A.y - deg\n",
    "    longtitude_A = PI * (deg + 5.0 * min / 3.0) / 180.0\n",
    "\n",
    "    deg = round(B.x)\n",
    "    min = B.x - deg\n",
    "    latitude_B = PI * (deg + 5.0 * min / 3.0) / 180.0\n",
    "    deg = round(B.y)\n",
    "    min = B.y - deg\n",
    "    longtitude_B = PI * (deg + 5.0 * min / 3.0) / 180.0\n",
    "\n",
    "    #compute the distance in kilometers\n",
    "    RRR = 6378.388                      #Radian of Earth\n",
    "    q1 = math.cos(longtitude_A - longtitude_B)\n",
    "    q2 = math.cos(latitude_A - latitude_B)\n",
    "    q3 = math.cos(latitude_A + latitude_B)\n",
    "\n",
    "    dist = int(RRR * math.acos(0.5 * ((1.0+q1)*q2 - (1.0-q1)*q3)) + 1.0)\n",
    "\n",
    "    return dist\n"
   ]
  },
  {
   "cell_type": "markdown",
   "metadata": {},
   "source": [
    "5. Biểu diễn ma trận cạnh kề, chú ý lựa chọn hàm tính khoảng cách phù hợp với bộ dữ liệu"
   ]
  },
  {
   "cell_type": "code",
   "execution_count": 25,
   "metadata": {},
   "outputs": [],
   "source": [
    "ed_graph = []\n",
    "\n",
    "for i in range(n+1):\n",
    "    sub_grp = []\n",
    "\n",
    "    for j in range(n+1):\n",
    "        sub_grp.append(GeoDistance(graph[i], graph[j]))\n",
    "    ed_graph.append(sub_grp)"
   ]
  },
  {
   "cell_type": "markdown",
   "metadata": {},
   "source": [
    "# Test space\n"
   ]
  },
  {
   "cell_type": "code",
   "execution_count": 27,
   "metadata": {},
   "outputs": [
    {
     "name": "stdout",
     "output_type": "stream",
     "text": [
      "15\n"
     ]
    }
   ],
   "source": [
    "#print(len(ed_graph))"
   ]
  }
 ],
 "metadata": {
  "kernelspec": {
   "display_name": "Python 3",
   "language": "python",
   "name": "python3"
  },
  "language_info": {
   "codemirror_mode": {
    "name": "ipython",
    "version": 3
   },
   "file_extension": ".py",
   "mimetype": "text/x-python",
   "name": "python",
   "nbconvert_exporter": "python",
   "pygments_lexer": "ipython3",
   "version": "3.12.2"
  }
 },
 "nbformat": 4,
 "nbformat_minor": 2
}
